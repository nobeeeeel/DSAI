{
  "cells": [
    {
      "cell_type": "code",
      "execution_count": null,
      "metadata": {
        "id": "QmgaA892JTGQ"
      },
      "outputs": [],
      "source": [
        "#Following are the top 10 NASDAQ stocks which we are using \n",
        "#Apple (NASDAQ:AAPL)\n",
        "#Microsoft (NASDAQ:MSFT)\n",
        "#Amazon (NASDAQ:AMZN)\n",
        "#Facebook (NASDAQ:FB)\n",
        "#Alphabet Class C (NASDAQ:GOOG)\n",
        "#Alphabet Class A (NASDAQ:GOOGL)\n",
        "#Tesla (NASDAQ:TSLA)\n",
        "#NVIDIA (NASDAQ:NVDA)\n",
        "#PayPal Holdings (NASDAQ:PYPL)\n",
        "#ASML Holdings (NASDAQ:ASML)\n",
        "\n",
        "stocksList = ['AAPL', 'MSFT', 'AMZN', 'FB', 'GOOG', 'GOOGL', 'TSLA', 'NVDA', 'PYPL', 'ASML']"
      ]
    },
    {
      "cell_type": "code",
      "execution_count": null,
      "metadata": {
        "colab": {
          "base_uri": "https://localhost:8080/",
          "height": 232
        },
        "id": "oHX_i_pZRbOn",
        "outputId": "dae23bf6-1334-4848-b028-77d65a328b44"
      },
      "outputs": [
        {
          "ename": "TypeError",
          "evalue": "ignored",
          "output_type": "error",
          "traceback": [
            "\u001b[0;31m---------------------------------------------------------------------------\u001b[0m",
            "\u001b[0;31mTypeError\u001b[0m                                 Traceback (most recent call last)",
            "\u001b[0;32m<ipython-input-43-938f90ce7da7>\u001b[0m in \u001b[0;36m<module>\u001b[0;34m()\u001b[0m\n\u001b[1;32m      3\u001b[0m \u001b[0;32mwith\u001b[0m \u001b[0mopen\u001b[0m\u001b[0;34m(\u001b[0m\u001b[0;34mr'input later'\u001b[0m\u001b[0;34m,\u001b[0m \u001b[0;34m'w'\u001b[0m\u001b[0;34m)\u001b[0m \u001b[0;32mas\u001b[0m \u001b[0mcsvfile\u001b[0m\u001b[0;34m:\u001b[0m\u001b[0;34m\u001b[0m\u001b[0;34m\u001b[0m\u001b[0m\n\u001b[1;32m      4\u001b[0m     \u001b[0;31m# Here, you need to write headers:\u001b[0m\u001b[0;34m\u001b[0m\u001b[0;34m\u001b[0m\u001b[0;34m\u001b[0m\u001b[0m\n\u001b[0;32m----> 5\u001b[0;31m     \u001b[0mcsvfile\u001b[0m\u001b[0;34m.\u001b[0m\u001b[0mwrite\u001b[0m\u001b[0;34m(\u001b[0m\u001b[0;34m'AAPL'\u001b[0m\u001b[0;34m,\u001b[0m \u001b[0;34m'MSFT'\u001b[0m\u001b[0;34m,\u001b[0m \u001b[0;34m'AMZN'\u001b[0m\u001b[0;34m,\u001b[0m \u001b[0;34m'FB'\u001b[0m\u001b[0;34m,\u001b[0m \u001b[0;34m'GOOG'\u001b[0m\u001b[0;34m,\u001b[0m \u001b[0;34m'GOOGL'\u001b[0m\u001b[0;34m,\u001b[0m \u001b[0;34m'TSLA'\u001b[0m\u001b[0;34m,\u001b[0m \u001b[0;34m'NVDA'\u001b[0m\u001b[0;34m,\u001b[0m \u001b[0;34m'PYPL'\u001b[0m\u001b[0;34m,\u001b[0m \u001b[0;34m'ASML'\u001b[0m\u001b[0;34m)\u001b[0m\u001b[0;34m\u001b[0m\u001b[0;34m\u001b[0m\u001b[0m\n\u001b[0m\u001b[1;32m      6\u001b[0m     \u001b[0;32mfor\u001b[0m \u001b[0murl\u001b[0m \u001b[0;32min\u001b[0m \u001b[0murls\u001b[0m\u001b[0;34m:\u001b[0m\u001b[0;34m\u001b[0m\u001b[0;34m\u001b[0m\u001b[0m\n\u001b[1;32m      7\u001b[0m         \u001b[0mISIN\u001b[0m \u001b[0;34m=\u001b[0m \u001b[0murl\u001b[0m\u001b[0;34m.\u001b[0m\u001b[0msplit\u001b[0m\u001b[0;34m(\u001b[0m\u001b[0;34m'='\u001b[0m\u001b[0;34m)\u001b[0m\u001b[0;34m[\u001b[0m\u001b[0;34m-\u001b[0m\u001b[0;36m1\u001b[0m\u001b[0;34m]\u001b[0m\u001b[0;34m.\u001b[0m\u001b[0mreplace\u001b[0m\u001b[0;34m(\u001b[0m\u001b[0;34m':'\u001b[0m\u001b[0;34m,\u001b[0m \u001b[0;34m'_'\u001b[0m\u001b[0;34m)\u001b[0m\u001b[0;34m\u001b[0m\u001b[0;34m\u001b[0m\u001b[0m\n",
            "\u001b[0;31mTypeError\u001b[0m: write() takes exactly one argument (10 given)"
          ]
        }
      ],
      "source": [
        "import csv\n",
        "\n",
        "with open(r'input later', 'w') as csvfile:\n",
        "    # Here, you need to write headers:\n",
        "    csvfile.write(stocksList)\n",
        "    for url in urls:\n",
        "        ISIN = url.split('=')[-1].replace(':', '_')\n",
        "        ...  # The rest of your code\n",
        "        df.to_csv(csvfile, index=False, header=False)"
      ]
    },
    {
      "cell_type": "code",
      "execution_count": null,
      "metadata": {
        "colab": {
          "base_uri": "https://localhost:8080/",
          "height": 137
        },
        "id": "mfkWXFojOJfj",
        "outputId": "ed800226-1cfa-444f-a9c4-c0e5942b76cb"
      },
      "outputs": [
        {
          "ename": "SyntaxError",
          "evalue": "ignored",
          "output_type": "error",
          "traceback": [
            "\u001b[0;36m  File \u001b[0;32m\"<ipython-input-14-c9a7cbea20eb>\"\u001b[0;36m, line \u001b[0;32m11\u001b[0m\n\u001b[0;31m    stocksData = json.loads(data.decode('utf-8'))  stocksData\u001b[0m\n\u001b[0m                                                            ^\u001b[0m\n\u001b[0;31mSyntaxError\u001b[0m\u001b[0;31m:\u001b[0m invalid syntax\n"
          ]
        }
      ],
      "source": [
        "import urllib.request\n",
        "import json\n",
        "\n",
        "for stock in stocksList:\n",
        "  url = \"https://www.alphavantage.co/query?function=TIME_SERIES_DAILY&symbol=\"+stock+\"&outputsize=full&apikey=8U32SQR1ECDBFDJ8\"  \n",
        "  request = urllib.request.Request(url)\n",
        "  request.add_header('api-key', '8U32SQR1ECDBFDJ8')\n",
        "\n",
        "  response = urllib.request.urlopen(request)\n",
        "  data = response.read()\n",
        "  stocksData = json.loads(data.decode('utf-8'))\\\n",
        "  stocksData"
      ]
    },
    {
      "cell_type": "markdown",
      "metadata": {
        "id": "w-Yp7E2GP750"
      },
      "source": [
        "Indicators We will be using\n",
        "RSI, MACD, MA\n"
      ]
    },
    {
      "cell_type": "markdown",
      "metadata": {
        "id": "luAwFW3vJOq-"
      },
      "source": [
        "Apple (NASDAQ:AAPL)\n",
        "Microsoft (NASDAQ:MSFT)\n",
        "Amazon (NASDAQ:AMZN)\n",
        "Facebook (NASDAQ:FB)\n",
        "Alphabet Class C (NASDAQ:GOOG)\n",
        "Alphabet Class A (NASDAQ:GOOGL)\n",
        "Tesla (NASDAQ:TSLA)\n",
        "NVIDIA (NASDAQ:NVDA)\n",
        "PayPal Holdings (NASDAQ:PYPL)\n",
        "ASML Holdings (NASDAQ:ASML)"
      ]
    },
    {
      "cell_type": "code",
      "execution_count": null,
      "metadata": {
        "colab": {
          "base_uri": "https://localhost:8080/"
        },
        "id": "Pv2Ubn3gQU0i",
        "outputId": "c2fcaddd-9d5e-4fdf-ec5a-01030d0cb095"
      },
      "outputs": [
        {
          "data": {
            "text/plain": [
              "dict_keys(['Meta Data', 'Time Series (Daily)'])"
            ]
          },
          "execution_count": 2,
          "metadata": {},
          "output_type": "execute_result"
        }
      ],
      "source": [
        "aaplData.keys()"
      ]
    },
    {
      "cell_type": "code",
      "execution_count": null,
      "metadata": {
        "colab": {
          "base_uri": "https://localhost:8080/"
        },
        "id": "6CNDZdRxQbN_",
        "outputId": "7093431e-ae21-49fb-ec82-316fdea9f6ac"
      },
      "outputs": [
        {
          "data": {
            "text/plain": [
              "{'1. Information': 'Daily Prices (open, high, low, close) and Volumes',\n",
              " '2. Symbol': 'AAPL',\n",
              " '3. Last Refreshed': '2022-03-30',\n",
              " '4. Output Size': 'Full size',\n",
              " '5. Time Zone': 'US/Eastern'}"
            ]
          },
          "execution_count": 3,
          "metadata": {},
          "output_type": "execute_result"
        }
      ],
      "source": [
        "aaplData['Meta Data']"
      ]
    },
    {
      "cell_type": "code",
      "execution_count": null,
      "metadata": {
        "id": "JGxYrVEZQf0Y"
      },
      "outputs": [],
      "source": [
        "aaplData['Time Series'] = aaplData.pop('Time Series (Daily)')"
      ]
    },
    {
      "cell_type": "code",
      "execution_count": null,
      "metadata": {
        "id": "j1e5wPK9Qmx1"
      },
      "outputs": [],
      "source": [
        "aaplData['Time Series']"
      ]
    },
    {
      "cell_type": "code",
      "execution_count": null,
      "metadata": {
        "colab": {
          "base_uri": "https://localhost:8080/"
        },
        "id": "Ylwbd-03Xlzs",
        "outputId": "99d38be9-9b38-4c60-ec42-b7dcc0533e07"
      },
      "outputs": [
        {
          "name": "stdout",
          "output_type": "stream",
          "text": [
            "3081\n"
          ]
        }
      ],
      "source": [
        "aaplData[\"Time Series\"].keys()\n",
        "count = 0\n",
        "for i in aaplData['Time Series'].keys():\n",
        "  if i == '2010-01-04':\n",
        "    print(count)\n",
        "  count += 1"
      ]
    },
    {
      "cell_type": "code",
      "execution_count": null,
      "metadata": {
        "id": "eU01DKCiYCPP"
      },
      "outputs": [],
      "source": []
    },
    {
      "cell_type": "code",
      "execution_count": null,
      "metadata": {
        "id": "54Tp9eFxQ3L1"
      },
      "outputs": [],
      "source": [
        "import pandas as pd\n",
        "\n",
        "aaplDF = pd.DataFrame(aaplData['Time Series']).transpose() "
      ]
    },
    {
      "cell_type": "code",
      "execution_count": null,
      "metadata": {
        "colab": {
          "base_uri": "https://localhost:8080/",
          "height": 419
        },
        "id": "LG4u-LE8Z1WK",
        "outputId": "74b02057-6e22-4f3b-c5c0-186debbabdb7"
      },
      "outputs": [
        {
          "data": {
            "text/html": [
              "\n",
              "  <div id=\"df-f3901b72-faf6-4336-bdc4-204223072258\">\n",
              "    <div class=\"colab-df-container\">\n",
              "      <div>\n",
              "<style scoped>\n",
              "    .dataframe tbody tr th:only-of-type {\n",
              "        vertical-align: middle;\n",
              "    }\n",
              "\n",
              "    .dataframe tbody tr th {\n",
              "        vertical-align: top;\n",
              "    }\n",
              "\n",
              "    .dataframe thead th {\n",
              "        text-align: right;\n",
              "    }\n",
              "</style>\n",
              "<table border=\"1\" class=\"dataframe\">\n",
              "  <thead>\n",
              "    <tr style=\"text-align: right;\">\n",
              "      <th></th>\n",
              "      <th>1. open</th>\n",
              "      <th>2. high</th>\n",
              "      <th>3. low</th>\n",
              "      <th>4. close</th>\n",
              "      <th>5. volume</th>\n",
              "    </tr>\n",
              "  </thead>\n",
              "  <tbody>\n",
              "    <tr>\n",
              "      <th>2022-03-30</th>\n",
              "      <td>178.5500</td>\n",
              "      <td>179.6100</td>\n",
              "      <td>176.7000</td>\n",
              "      <td>177.7700</td>\n",
              "      <td>92633154</td>\n",
              "    </tr>\n",
              "    <tr>\n",
              "      <th>2022-03-29</th>\n",
              "      <td>176.6900</td>\n",
              "      <td>179.0100</td>\n",
              "      <td>176.3400</td>\n",
              "      <td>178.9600</td>\n",
              "      <td>100589440</td>\n",
              "    </tr>\n",
              "    <tr>\n",
              "      <th>2022-03-28</th>\n",
              "      <td>172.1700</td>\n",
              "      <td>175.7300</td>\n",
              "      <td>172.0000</td>\n",
              "      <td>175.6000</td>\n",
              "      <td>90371916</td>\n",
              "    </tr>\n",
              "    <tr>\n",
              "      <th>2022-03-25</th>\n",
              "      <td>173.8800</td>\n",
              "      <td>175.2800</td>\n",
              "      <td>172.7500</td>\n",
              "      <td>174.7200</td>\n",
              "      <td>80281664</td>\n",
              "    </tr>\n",
              "    <tr>\n",
              "      <th>2022-03-24</th>\n",
              "      <td>171.0600</td>\n",
              "      <td>174.1400</td>\n",
              "      <td>170.2100</td>\n",
              "      <td>174.0700</td>\n",
              "      <td>90131418</td>\n",
              "    </tr>\n",
              "    <tr>\n",
              "      <th>...</th>\n",
              "      <td>...</td>\n",
              "      <td>...</td>\n",
              "      <td>...</td>\n",
              "      <td>...</td>\n",
              "      <td>...</td>\n",
              "    </tr>\n",
              "    <tr>\n",
              "      <th>1999-11-05</th>\n",
              "      <td>84.6200</td>\n",
              "      <td>88.3700</td>\n",
              "      <td>84.0000</td>\n",
              "      <td>88.3100</td>\n",
              "      <td>3721500</td>\n",
              "    </tr>\n",
              "    <tr>\n",
              "      <th>1999-11-04</th>\n",
              "      <td>82.0600</td>\n",
              "      <td>85.3700</td>\n",
              "      <td>80.6200</td>\n",
              "      <td>83.6200</td>\n",
              "      <td>3384700</td>\n",
              "    </tr>\n",
              "    <tr>\n",
              "      <th>1999-11-03</th>\n",
              "      <td>81.6200</td>\n",
              "      <td>83.2500</td>\n",
              "      <td>81.0000</td>\n",
              "      <td>81.5000</td>\n",
              "      <td>2932700</td>\n",
              "    </tr>\n",
              "    <tr>\n",
              "      <th>1999-11-02</th>\n",
              "      <td>78.0000</td>\n",
              "      <td>81.6900</td>\n",
              "      <td>77.3100</td>\n",
              "      <td>80.2500</td>\n",
              "      <td>3564600</td>\n",
              "    </tr>\n",
              "    <tr>\n",
              "      <th>1999-11-01</th>\n",
              "      <td>80.0000</td>\n",
              "      <td>80.6900</td>\n",
              "      <td>77.3700</td>\n",
              "      <td>77.6200</td>\n",
              "      <td>2487300</td>\n",
              "    </tr>\n",
              "  </tbody>\n",
              "</table>\n",
              "<p>5640 rows × 5 columns</p>\n",
              "</div>\n",
              "      <button class=\"colab-df-convert\" onclick=\"convertToInteractive('df-f3901b72-faf6-4336-bdc4-204223072258')\"\n",
              "              title=\"Convert this dataframe to an interactive table.\"\n",
              "              style=\"display:none;\">\n",
              "        \n",
              "  <svg xmlns=\"http://www.w3.org/2000/svg\" height=\"24px\"viewBox=\"0 0 24 24\"\n",
              "       width=\"24px\">\n",
              "    <path d=\"M0 0h24v24H0V0z\" fill=\"none\"/>\n",
              "    <path d=\"M18.56 5.44l.94 2.06.94-2.06 2.06-.94-2.06-.94-.94-2.06-.94 2.06-2.06.94zm-11 1L8.5 8.5l.94-2.06 2.06-.94-2.06-.94L8.5 2.5l-.94 2.06-2.06.94zm10 10l.94 2.06.94-2.06 2.06-.94-2.06-.94-.94-2.06-.94 2.06-2.06.94z\"/><path d=\"M17.41 7.96l-1.37-1.37c-.4-.4-.92-.59-1.43-.59-.52 0-1.04.2-1.43.59L10.3 9.45l-7.72 7.72c-.78.78-.78 2.05 0 2.83L4 21.41c.39.39.9.59 1.41.59.51 0 1.02-.2 1.41-.59l7.78-7.78 2.81-2.81c.8-.78.8-2.07 0-2.86zM5.41 20L4 18.59l7.72-7.72 1.47 1.35L5.41 20z\"/>\n",
              "  </svg>\n",
              "      </button>\n",
              "      \n",
              "  <style>\n",
              "    .colab-df-container {\n",
              "      display:flex;\n",
              "      flex-wrap:wrap;\n",
              "      gap: 12px;\n",
              "    }\n",
              "\n",
              "    .colab-df-convert {\n",
              "      background-color: #E8F0FE;\n",
              "      border: none;\n",
              "      border-radius: 50%;\n",
              "      cursor: pointer;\n",
              "      display: none;\n",
              "      fill: #1967D2;\n",
              "      height: 32px;\n",
              "      padding: 0 0 0 0;\n",
              "      width: 32px;\n",
              "    }\n",
              "\n",
              "    .colab-df-convert:hover {\n",
              "      background-color: #E2EBFA;\n",
              "      box-shadow: 0px 1px 2px rgba(60, 64, 67, 0.3), 0px 1px 3px 1px rgba(60, 64, 67, 0.15);\n",
              "      fill: #174EA6;\n",
              "    }\n",
              "\n",
              "    [theme=dark] .colab-df-convert {\n",
              "      background-color: #3B4455;\n",
              "      fill: #D2E3FC;\n",
              "    }\n",
              "\n",
              "    [theme=dark] .colab-df-convert:hover {\n",
              "      background-color: #434B5C;\n",
              "      box-shadow: 0px 1px 3px 1px rgba(0, 0, 0, 0.15);\n",
              "      filter: drop-shadow(0px 1px 2px rgba(0, 0, 0, 0.3));\n",
              "      fill: #FFFFFF;\n",
              "    }\n",
              "  </style>\n",
              "\n",
              "      <script>\n",
              "        const buttonEl =\n",
              "          document.querySelector('#df-f3901b72-faf6-4336-bdc4-204223072258 button.colab-df-convert');\n",
              "        buttonEl.style.display =\n",
              "          google.colab.kernel.accessAllowed ? 'block' : 'none';\n",
              "\n",
              "        async function convertToInteractive(key) {\n",
              "          const element = document.querySelector('#df-f3901b72-faf6-4336-bdc4-204223072258');\n",
              "          const dataTable =\n",
              "            await google.colab.kernel.invokeFunction('convertToInteractive',\n",
              "                                                     [key], {});\n",
              "          if (!dataTable) return;\n",
              "\n",
              "          const docLinkHtml = 'Like what you see? Visit the ' +\n",
              "            '<a target=\"_blank\" href=https://colab.research.google.com/notebooks/data_table.ipynb>data table notebook</a>'\n",
              "            + ' to learn more about interactive tables.';\n",
              "          element.innerHTML = '';\n",
              "          dataTable['output_type'] = 'display_data';\n",
              "          await google.colab.output.renderOutput(dataTable, element);\n",
              "          const docLink = document.createElement('div');\n",
              "          docLink.innerHTML = docLinkHtml;\n",
              "          element.appendChild(docLink);\n",
              "        }\n",
              "      </script>\n",
              "    </div>\n",
              "  </div>\n",
              "  "
            ],
            "text/plain": [
              "             1. open   2. high    3. low  4. close  5. volume\n",
              "2022-03-30  178.5500  179.6100  176.7000  177.7700   92633154\n",
              "2022-03-29  176.6900  179.0100  176.3400  178.9600  100589440\n",
              "2022-03-28  172.1700  175.7300  172.0000  175.6000   90371916\n",
              "2022-03-25  173.8800  175.2800  172.7500  174.7200   80281664\n",
              "2022-03-24  171.0600  174.1400  170.2100  174.0700   90131418\n",
              "...              ...       ...       ...       ...        ...\n",
              "1999-11-05   84.6200   88.3700   84.0000   88.3100    3721500\n",
              "1999-11-04   82.0600   85.3700   80.6200   83.6200    3384700\n",
              "1999-11-03   81.6200   83.2500   81.0000   81.5000    2932700\n",
              "1999-11-02   78.0000   81.6900   77.3100   80.2500    3564600\n",
              "1999-11-01   80.0000   80.6900   77.3700   77.6200    2487300\n",
              "\n",
              "[5640 rows x 5 columns]"
            ]
          },
          "execution_count": 9,
          "metadata": {},
          "output_type": "execute_result"
        }
      ],
      "source": [
        "aaplDF"
      ]
    },
    {
      "cell_type": "code",
      "execution_count": null,
      "metadata": {
        "id": "5x4wtzrrRnoM"
      },
      "outputs": [],
      "source": [
        "list = []\n",
        "for i in range(3071,len(aaplDF)):\n",
        "  list.append(aaplDF.index[i])"
      ]
    },
    {
      "cell_type": "code",
      "execution_count": null,
      "metadata": {
        "id": "OXpNAj0KaAcC"
      },
      "outputs": [],
      "source": [
        "for i in list:\n",
        "  aaplDF = aaplDF.drop(i)"
      ]
    },
    {
      "cell_type": "code",
      "execution_count": null,
      "metadata": {
        "colab": {
          "base_uri": "https://localhost:8080/",
          "height": 419
        },
        "id": "WhFbZCx7aE5m",
        "outputId": "cfc3cde0-5f12-4768-c829-0ab14b01b555"
      },
      "outputs": [
        {
          "data": {
            "text/html": [
              "\n",
              "  <div id=\"df-401ee89d-15b0-4232-9432-1c5f1f44564a\">\n",
              "    <div class=\"colab-df-container\">\n",
              "      <div>\n",
              "<style scoped>\n",
              "    .dataframe tbody tr th:only-of-type {\n",
              "        vertical-align: middle;\n",
              "    }\n",
              "\n",
              "    .dataframe tbody tr th {\n",
              "        vertical-align: top;\n",
              "    }\n",
              "\n",
              "    .dataframe thead th {\n",
              "        text-align: right;\n",
              "    }\n",
              "</style>\n",
              "<table border=\"1\" class=\"dataframe\">\n",
              "  <thead>\n",
              "    <tr style=\"text-align: right;\">\n",
              "      <th></th>\n",
              "      <th>1. open</th>\n",
              "      <th>2. high</th>\n",
              "      <th>3. low</th>\n",
              "      <th>4. close</th>\n",
              "      <th>5. volume</th>\n",
              "    </tr>\n",
              "  </thead>\n",
              "  <tbody>\n",
              "    <tr>\n",
              "      <th>2022-03-30</th>\n",
              "      <td>178.5500</td>\n",
              "      <td>179.6100</td>\n",
              "      <td>176.7000</td>\n",
              "      <td>177.7700</td>\n",
              "      <td>92633154</td>\n",
              "    </tr>\n",
              "    <tr>\n",
              "      <th>2022-03-29</th>\n",
              "      <td>176.6900</td>\n",
              "      <td>179.0100</td>\n",
              "      <td>176.3400</td>\n",
              "      <td>178.9600</td>\n",
              "      <td>100589440</td>\n",
              "    </tr>\n",
              "    <tr>\n",
              "      <th>2022-03-28</th>\n",
              "      <td>172.1700</td>\n",
              "      <td>175.7300</td>\n",
              "      <td>172.0000</td>\n",
              "      <td>175.6000</td>\n",
              "      <td>90371916</td>\n",
              "    </tr>\n",
              "    <tr>\n",
              "      <th>2022-03-25</th>\n",
              "      <td>173.8800</td>\n",
              "      <td>175.2800</td>\n",
              "      <td>172.7500</td>\n",
              "      <td>174.7200</td>\n",
              "      <td>80281664</td>\n",
              "    </tr>\n",
              "    <tr>\n",
              "      <th>2022-03-24</th>\n",
              "      <td>171.0600</td>\n",
              "      <td>174.1400</td>\n",
              "      <td>170.2100</td>\n",
              "      <td>174.0700</td>\n",
              "      <td>90131418</td>\n",
              "    </tr>\n",
              "    <tr>\n",
              "      <th>...</th>\n",
              "      <td>...</td>\n",
              "      <td>...</td>\n",
              "      <td>...</td>\n",
              "      <td>...</td>\n",
              "      <td>...</td>\n",
              "    </tr>\n",
              "    <tr>\n",
              "      <th>2010-01-26</th>\n",
              "      <td>205.9500</td>\n",
              "      <td>213.7100</td>\n",
              "      <td>202.5800</td>\n",
              "      <td>205.9400</td>\n",
              "      <td>66682500</td>\n",
              "    </tr>\n",
              "    <tr>\n",
              "      <th>2010-01-25</th>\n",
              "      <td>202.5100</td>\n",
              "      <td>204.7000</td>\n",
              "      <td>200.1900</td>\n",
              "      <td>203.0750</td>\n",
              "      <td>38060700</td>\n",
              "    </tr>\n",
              "    <tr>\n",
              "      <th>2010-01-22</th>\n",
              "      <td>206.7800</td>\n",
              "      <td>207.5000</td>\n",
              "      <td>197.1600</td>\n",
              "      <td>197.7500</td>\n",
              "      <td>31491700</td>\n",
              "    </tr>\n",
              "    <tr>\n",
              "      <th>2010-01-21</th>\n",
              "      <td>212.0800</td>\n",
              "      <td>213.3138</td>\n",
              "      <td>207.2100</td>\n",
              "      <td>208.0720</td>\n",
              "      <td>21719800</td>\n",
              "    </tr>\n",
              "    <tr>\n",
              "      <th>2010-01-20</th>\n",
              "      <td>214.9100</td>\n",
              "      <td>215.5500</td>\n",
              "      <td>209.5000</td>\n",
              "      <td>211.7250</td>\n",
              "      <td>21862600</td>\n",
              "    </tr>\n",
              "  </tbody>\n",
              "</table>\n",
              "<p>3071 rows × 5 columns</p>\n",
              "</div>\n",
              "      <button class=\"colab-df-convert\" onclick=\"convertToInteractive('df-401ee89d-15b0-4232-9432-1c5f1f44564a')\"\n",
              "              title=\"Convert this dataframe to an interactive table.\"\n",
              "              style=\"display:none;\">\n",
              "        \n",
              "  <svg xmlns=\"http://www.w3.org/2000/svg\" height=\"24px\"viewBox=\"0 0 24 24\"\n",
              "       width=\"24px\">\n",
              "    <path d=\"M0 0h24v24H0V0z\" fill=\"none\"/>\n",
              "    <path d=\"M18.56 5.44l.94 2.06.94-2.06 2.06-.94-2.06-.94-.94-2.06-.94 2.06-2.06.94zm-11 1L8.5 8.5l.94-2.06 2.06-.94-2.06-.94L8.5 2.5l-.94 2.06-2.06.94zm10 10l.94 2.06.94-2.06 2.06-.94-2.06-.94-.94-2.06-.94 2.06-2.06.94z\"/><path d=\"M17.41 7.96l-1.37-1.37c-.4-.4-.92-.59-1.43-.59-.52 0-1.04.2-1.43.59L10.3 9.45l-7.72 7.72c-.78.78-.78 2.05 0 2.83L4 21.41c.39.39.9.59 1.41.59.51 0 1.02-.2 1.41-.59l7.78-7.78 2.81-2.81c.8-.78.8-2.07 0-2.86zM5.41 20L4 18.59l7.72-7.72 1.47 1.35L5.41 20z\"/>\n",
              "  </svg>\n",
              "      </button>\n",
              "      \n",
              "  <style>\n",
              "    .colab-df-container {\n",
              "      display:flex;\n",
              "      flex-wrap:wrap;\n",
              "      gap: 12px;\n",
              "    }\n",
              "\n",
              "    .colab-df-convert {\n",
              "      background-color: #E8F0FE;\n",
              "      border: none;\n",
              "      border-radius: 50%;\n",
              "      cursor: pointer;\n",
              "      display: none;\n",
              "      fill: #1967D2;\n",
              "      height: 32px;\n",
              "      padding: 0 0 0 0;\n",
              "      width: 32px;\n",
              "    }\n",
              "\n",
              "    .colab-df-convert:hover {\n",
              "      background-color: #E2EBFA;\n",
              "      box-shadow: 0px 1px 2px rgba(60, 64, 67, 0.3), 0px 1px 3px 1px rgba(60, 64, 67, 0.15);\n",
              "      fill: #174EA6;\n",
              "    }\n",
              "\n",
              "    [theme=dark] .colab-df-convert {\n",
              "      background-color: #3B4455;\n",
              "      fill: #D2E3FC;\n",
              "    }\n",
              "\n",
              "    [theme=dark] .colab-df-convert:hover {\n",
              "      background-color: #434B5C;\n",
              "      box-shadow: 0px 1px 3px 1px rgba(0, 0, 0, 0.15);\n",
              "      filter: drop-shadow(0px 1px 2px rgba(0, 0, 0, 0.3));\n",
              "      fill: #FFFFFF;\n",
              "    }\n",
              "  </style>\n",
              "\n",
              "      <script>\n",
              "        const buttonEl =\n",
              "          document.querySelector('#df-401ee89d-15b0-4232-9432-1c5f1f44564a button.colab-df-convert');\n",
              "        buttonEl.style.display =\n",
              "          google.colab.kernel.accessAllowed ? 'block' : 'none';\n",
              "\n",
              "        async function convertToInteractive(key) {\n",
              "          const element = document.querySelector('#df-401ee89d-15b0-4232-9432-1c5f1f44564a');\n",
              "          const dataTable =\n",
              "            await google.colab.kernel.invokeFunction('convertToInteractive',\n",
              "                                                     [key], {});\n",
              "          if (!dataTable) return;\n",
              "\n",
              "          const docLinkHtml = 'Like what you see? Visit the ' +\n",
              "            '<a target=\"_blank\" href=https://colab.research.google.com/notebooks/data_table.ipynb>data table notebook</a>'\n",
              "            + ' to learn more about interactive tables.';\n",
              "          element.innerHTML = '';\n",
              "          dataTable['output_type'] = 'display_data';\n",
              "          await google.colab.output.renderOutput(dataTable, element);\n",
              "          const docLink = document.createElement('div');\n",
              "          docLink.innerHTML = docLinkHtml;\n",
              "          element.appendChild(docLink);\n",
              "        }\n",
              "      </script>\n",
              "    </div>\n",
              "  </div>\n",
              "  "
            ],
            "text/plain": [
              "             1. open   2. high    3. low  4. close  5. volume\n",
              "2022-03-30  178.5500  179.6100  176.7000  177.7700   92633154\n",
              "2022-03-29  176.6900  179.0100  176.3400  178.9600  100589440\n",
              "2022-03-28  172.1700  175.7300  172.0000  175.6000   90371916\n",
              "2022-03-25  173.8800  175.2800  172.7500  174.7200   80281664\n",
              "2022-03-24  171.0600  174.1400  170.2100  174.0700   90131418\n",
              "...              ...       ...       ...       ...        ...\n",
              "2010-01-26  205.9500  213.7100  202.5800  205.9400   66682500\n",
              "2010-01-25  202.5100  204.7000  200.1900  203.0750   38060700\n",
              "2010-01-22  206.7800  207.5000  197.1600  197.7500   31491700\n",
              "2010-01-21  212.0800  213.3138  207.2100  208.0720   21719800\n",
              "2010-01-20  214.9100  215.5500  209.5000  211.7250   21862600\n",
              "\n",
              "[3071 rows x 5 columns]"
            ]
          },
          "execution_count": 12,
          "metadata": {},
          "output_type": "execute_result"
        }
      ],
      "source": [
        "aaplDF"
      ]
    }
  ],
  "metadata": {
    "colab": {
      "collapsed_sections": [],
      "name": "stockTraderML.ipynb",
      "provenance": []
    },
    "kernelspec": {
      "display_name": "Python 3",
      "name": "python3"
    },
    "language_info": {
      "name": "python"
    }
  },
  "nbformat": 4,
  "nbformat_minor": 0
}
