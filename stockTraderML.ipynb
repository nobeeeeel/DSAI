{
  "cells": [
    {
      "cell_type": "code",
      "execution_count": null,
      "metadata": {},
      "outputs": [],
      "source": [
        "import pandas as pd\n",
        "import numpy as np\n",
        "import seaborn as sb\n",
        "from matplotlib import pyplot as plt\n",
        "from pandas_datareader import data as pdr\n",
        "sb.set()"
      ]
    },
    {
      "cell_type": "code",
      "execution_count": null,
      "metadata": {
        "id": "QmgaA892JTGQ"
      },
      "outputs": [],
      "source": [
        "#Following are the top 10 NASDAQ stocks which we are using \n",
        "#Apple (NASDAQ:AAPL)\n",
        "#Microsoft (NASDAQ:MSFT)\n",
        "#Amazon (NASDAQ:AMZN)\n",
        "#Facebook (NASDAQ:FB)\n",
        "#Alphabet Class C (NASDAQ:GOOG)\n",
        "#Alphabet Class A (NASDAQ:GOOGL)\n",
        "#Tesla (NASDAQ:TSLA)\n",
        "#NVIDIA (NASDAQ:NVDA)\n",
        "#PayPal Holdings (NASDAQ:PYPL)\n",
        "#ASML Holdings (NASDAQ:ASML)\n",
        "\n",
        "stocksList = ['AAPL', 'MSFT', 'AMZN', 'FB', 'GOOG', 'GOOGL', 'TSLA', 'NVDA', 'PYPL', 'ASML']"
      ]
    },
    {
      "cell_type": "code",
      "execution_count": null,
      "metadata": {},
      "outputs": [],
      "source": [
        "import yfinance as yf\n",
        "\n",
        "yf.pdr_override()\n",
        "stocksData = {}\n",
        "for ticker in stocksList:\n",
        "    df = pdr.get_data_yahoo(ticker, start=\"2010-01-01\", end=\"2022-03-30\")\n",
        "    df.dropna()\n",
        "    #df.drop(df.columns.difference(['Date','Close']), 1, inplace=True)\n",
        "    stocksData[ticker] = df\n",
        "\n",
        "stocksData"
      ]
    },
    {
      "cell_type": "code",
      "execution_count": null,
      "metadata": {},
      "outputs": [],
      "source": [
        "for ticker in stocksList:\n",
        "    sb.jointplot(data = stocksData[ticker], x = \"Date\", y = \"Close\", height = 12)"
      ]
    },
    {
      "cell_type": "code",
      "execution_count": null,
      "metadata": {},
      "outputs": [],
      "source": [
        "from sklearn.linear_model import LinearRegression\n",
        "from sklearn.model_selection import train_test_split\n",
        "\n",
        "linreg = LinearRegression()\n",
        "\n",
        "for ticker in stocksData:\n",
        "    stocksData[ticker] = stocksData[ticker].reset_index()\n",
        "    X = np.array(pd.to_datetime(stocksData[ticker]['Date'].index.values, format='%Y-%m-%d'), dtype=float)\n",
        "    X = X.reshape(-1, 1)\n",
        "    y = np.array(stocksData[ticker]['Close'].values, dtype=float)\n",
        "    \n",
        "    ## HELP PLS I CANT FIGURE OUT HOW TO DO THE LINEAR REG IT SAYS KEYERROR\n",
        "\n",
        "    # Split the Dataset into random Train and Test\n",
        "    X_train, X_test, y_train, y_test = train_test_split(X, y, test_size = 0.2)\n",
        "\n",
        "    # Check the sample sizes\n",
        "    print(\"Train Set :\", X_train.shape, y_train.shape)\n",
        "    print(\"Test Set  :\", X_test.shape, y_test.shape)\n",
        "    \n",
        "    linreg.fit(X_train, y_train)\n",
        "    \n",
        "    print('Intercept \\t: b = ', linreg.intercept_)\n",
        "    print('Coefficients \\t: a = ', linreg.coef_)\n",
        "\n",
        "    # Formula for the Regression line\n",
        "    regline_x = X_train\n",
        "    regline_y = linreg.intercept_ + linreg.coef_ * X_train\n",
        "\n",
        "    # Plot the Linear Regression line\n",
        "    f, axes = plt.subplots(1, 1, figsize=(16, 8))\n",
        "    plt.scatter(X_train, y_train)\n",
        "    plt.plot(regline_x, regline_y, 'r-', linewidth = 3)\n",
        "    plt.show()"
      ]
    },
    {
      "cell_type": "code",
      "execution_count": null,
      "metadata": {
        "colab": {
          "base_uri": "https://localhost:8080/",
          "height": 232
        },
        "id": "oHX_i_pZRbOn",
        "outputId": "dae23bf6-1334-4848-b028-77d65a328b44"
      },
      "outputs": [],
      "source": [
        "#import csv\n",
        "\n",
        "#with open(r'input later', 'w') as csvfile:\n",
        "    # Here, you need to write headers:\n",
        "    #csvfile.write(stocksList)\n",
        "    #for url in urls:\n",
        "       # ISIN = url.split('=')[-1].replace(':', '_')\n",
        "        #...  # The rest of your code\n",
        "        #df.to_csv(csvfile, index=False, header=False)"
      ]
    },
    {
      "cell_type": "code",
      "execution_count": null,
      "metadata": {
        "colab": {
          "base_uri": "https://localhost:8080/",
          "height": 137
        },
        "id": "mfkWXFojOJfj",
        "outputId": "ed800226-1cfa-444f-a9c4-c0e5942b76cb"
      },
      "outputs": [],
      "source": [
        "#import urllib.request\n",
        "#import json\n",
        "\n",
        "#for stock in stocksList:\n",
        "  #url = \"https://www.alphavantage.co/query?function=TIME_SERIES_DAILY&symbol=\"+stock+\"&outputsize=full&apikey=8U32SQR1ECDBFDJ8\"  \n",
        "  #request = urllib.request.Request(url)\n",
        "  #request.add_header('api-key', '8U32SQR1ECDBFDJ8')\n",
        "\n",
        "  #response = urllib.request.urlopen(request)\n",
        "  #data = response.read()\n",
        "  #stocksData = json.loads(data.decode('utf-8'))\\\n",
        "  #stocksData"
      ]
    },
    {
      "cell_type": "markdown",
      "metadata": {
        "id": "w-Yp7E2GP750"
      },
      "source": [
        "Indicators We will be using\n",
        "RSI, MACD, MA\n"
      ]
    },
    {
      "cell_type": "markdown",
      "metadata": {
        "id": "luAwFW3vJOq-"
      },
      "source": [
        "Apple (NASDAQ:AAPL)\n",
        "Microsoft (NASDAQ:MSFT)\n",
        "Amazon (NASDAQ:AMZN)\n",
        "Facebook (NASDAQ:FB)\n",
        "Alphabet Class C (NASDAQ:GOOG)\n",
        "Alphabet Class A (NASDAQ:GOOGL)\n",
        "Tesla (NASDAQ:TSLA)\n",
        "NVIDIA (NASDAQ:NVDA)\n",
        "PayPal Holdings (NASDAQ:PYPL)\n",
        "ASML Holdings (NASDAQ:ASML)"
      ]
    },
    {
      "cell_type": "code",
      "execution_count": null,
      "metadata": {
        "colab": {
          "base_uri": "https://localhost:8080/"
        },
        "id": "Pv2Ubn3gQU0i",
        "outputId": "c2fcaddd-9d5e-4fdf-ec5a-01030d0cb095"
      },
      "outputs": [],
      "source": [
        "aaplData.keys()"
      ]
    },
    {
      "cell_type": "code",
      "execution_count": null,
      "metadata": {
        "colab": {
          "base_uri": "https://localhost:8080/"
        },
        "id": "6CNDZdRxQbN_",
        "outputId": "7093431e-ae21-49fb-ec82-316fdea9f6ac"
      },
      "outputs": [],
      "source": [
        "aaplData['Meta Data']"
      ]
    },
    {
      "cell_type": "code",
      "execution_count": null,
      "metadata": {
        "id": "JGxYrVEZQf0Y"
      },
      "outputs": [],
      "source": [
        "aaplData['Time Series'] = aaplData.pop('Time Series (Daily)')"
      ]
    },
    {
      "cell_type": "code",
      "execution_count": null,
      "metadata": {
        "id": "j1e5wPK9Qmx1"
      },
      "outputs": [],
      "source": [
        "aaplData['Time Series']"
      ]
    },
    {
      "cell_type": "code",
      "execution_count": null,
      "metadata": {
        "colab": {
          "base_uri": "https://localhost:8080/"
        },
        "id": "Ylwbd-03Xlzs",
        "outputId": "99d38be9-9b38-4c60-ec42-b7dcc0533e07"
      },
      "outputs": [],
      "source": [
        "aaplData[\"Time Series\"].keys()\n",
        "count = 0\n",
        "for i in aaplData['Time Series'].keys():\n",
        "  if i == '2010-01-04':\n",
        "    print(count)\n",
        "  count += 1"
      ]
    },
    {
      "cell_type": "code",
      "execution_count": null,
      "metadata": {
        "id": "eU01DKCiYCPP"
      },
      "outputs": [],
      "source": []
    },
    {
      "cell_type": "code",
      "execution_count": null,
      "metadata": {
        "id": "54Tp9eFxQ3L1"
      },
      "outputs": [],
      "source": [
        "import pandas as pd\n",
        "\n",
        "aaplDF = pd.DataFrame(aaplData['Time Series']).transpose() "
      ]
    },
    {
      "cell_type": "code",
      "execution_count": null,
      "metadata": {
        "colab": {
          "base_uri": "https://localhost:8080/",
          "height": 419
        },
        "id": "LG4u-LE8Z1WK",
        "outputId": "74b02057-6e22-4f3b-c5c0-186debbabdb7"
      },
      "outputs": [],
      "source": [
        "aaplDF"
      ]
    },
    {
      "cell_type": "code",
      "execution_count": null,
      "metadata": {
        "id": "5x4wtzrrRnoM"
      },
      "outputs": [],
      "source": [
        "list = []\n",
        "for i in range(3071,len(aaplDF)):\n",
        "  list.append(aaplDF.index[i])"
      ]
    },
    {
      "cell_type": "code",
      "execution_count": null,
      "metadata": {
        "id": "OXpNAj0KaAcC"
      },
      "outputs": [],
      "source": [
        "for i in list:\n",
        "  aaplDF = aaplDF.drop(i)"
      ]
    },
    {
      "cell_type": "code",
      "execution_count": null,
      "metadata": {
        "colab": {
          "base_uri": "https://localhost:8080/",
          "height": 419
        },
        "id": "WhFbZCx7aE5m",
        "outputId": "cfc3cde0-5f12-4768-c829-0ab14b01b555"
      },
      "outputs": [],
      "source": [
        "aaplDF"
      ]
    }
  ],
  "metadata": {
    "colab": {
      "collapsed_sections": [],
      "name": "stockTraderML.ipynb",
      "provenance": []
    },
    "kernelspec": {
      "display_name": "Python 3",
      "name": "python3"
    },
    "language_info": {
      "codemirror_mode": {
        "name": "ipython",
        "version": 3
      },
      "file_extension": ".py",
      "mimetype": "text/x-python",
      "name": "python",
      "nbconvert_exporter": "python",
      "pygments_lexer": "ipython3",
      "version": "3.10.2"
    }
  },
  "nbformat": 4,
  "nbformat_minor": 0
}
